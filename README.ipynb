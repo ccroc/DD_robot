{
 "cells": [
  {
   "cell_type": "markdown",
   "metadata": {},
   "source": [
    "### DD_robot\n",
    "This is a ROS robot implementation, that use Gazebo simulation environment.\n",
    "The description of robot is given in /urdf/my_robot_x.urdf.xacro file, that include other xacro files and run gazebo tag.\n",
    "\n",
    "If you want to spawn robot and all controller in gazebo model:"
   ]
  },
  {
   "cell_type": "code",
   "execution_count": null,
   "metadata": {},
   "outputs": [],
   "source": [
    "    roslaunch my_robot_urdf my_robot_gazebo.launch"
   ]
  },
  {
   "cell_type": "markdown",
   "metadata": {},
   "source": [
    "If you want to command robot by keyboard arrows:"
   ]
  },
  {
   "cell_type": "code",
   "execution_count": null,
   "metadata": {},
   "outputs": [],
   "source": [
    "    #sudo apt-get install ros-melodic-teleop-twist-keyboard\n",
    "    \n",
    "    rosrun teleop_twist_keyboard teleop_twist_keyboard.py cmd_vel:=DD_controller/cmd_vel "
   ]
  },
  {
   "cell_type": "markdown",
   "metadata": {},
   "source": [
    "For the trajectory tracking:"
   ]
  },
  {
   "cell_type": "code",
   "execution_count": null,
   "metadata": {},
   "outputs": [],
   "source": [
    "    rosrun my_robot_urdf trajectory_tracking.py"
   ]
  }
 ],
 "metadata": {
  "kernelspec": {
   "display_name": "Bash",
   "language": "bash",
   "name": "bash"
  },
  "language_info": {
   "codemirror_mode": "shell",
   "file_extension": ".sh",
   "mimetype": "text/x-sh",
   "name": "bash"
  }
 },
 "nbformat": 4,
 "nbformat_minor": 2
}